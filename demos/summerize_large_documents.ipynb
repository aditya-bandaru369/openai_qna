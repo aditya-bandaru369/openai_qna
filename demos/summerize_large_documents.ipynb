{
 "cells": [
  {
   "attachments": {},
   "cell_type": "markdown",
   "metadata": {},
   "source": [
    "# Summerize large documets\n",
    "\n",
    "this is a guide to how you can summerize large documents such as PDFs"
   ]
  },
  {
   "cell_type": "code",
   "execution_count": 49,
   "metadata": {},
   "outputs": [],
   "source": [
    "# you can find these in your Azure OpenAI portal\n",
    "deployment_name=\"davinci003\"\n",
    "model_name=\"text-davinci-003\""
   ]
  },
  {
   "cell_type": "code",
   "execution_count": 50,
   "metadata": {},
   "outputs": [],
   "source": [
    "import os, openai\n",
    "\n",
    "os.environ[\"OPENAI_API_TYPE\"] = openai.api_type = \"azure\"\n",
    "os.environ[\"OPENAI_API_VERSION\"] = openai.api_version = \"2022-12-01\"\n",
    "\n",
    "openai.api_base = os.environ[\"OPENAI_API_BASE\"] = \"ENTER YOUR API BASE HERE\"\n",
    "openai.api_key = os.environ[\"OPENAI_API_KEY\"] = \"ENTER YOUR API KEY HERE\""
   ]
  },
  {
   "cell_type": "code",
   "execution_count": 51,
   "metadata": {},
   "outputs": [],
   "source": [
    "from langchain import PromptTemplate, LLMChain\n",
    "from langchain.text_splitter import CharacterTextSplitter\n",
    "from langchain.chains.mapreduce import MapReduceChain\n",
    "from langchain.prompts import PromptTemplate\n",
    "from langchain.llms import AzureOpenAI\n",
    "\n",
    "llm = AzureOpenAI(deployment_name=deployment_name, model_name=model_name, temperature=0)\n",
    "\n",
    "text_splitter = CharacterTextSplitter()\n"
   ]
  },
  {
   "cell_type": "code",
   "execution_count": 52,
   "metadata": {},
   "outputs": [],
   "source": [
    "from langchain.document_loaders import UnstructuredPDFLoader\n",
    "from langchain.text_splitter import CharacterTextSplitter\n",
    "\n",
    "loader = UnstructuredPDFLoader(\"data/Enhancing the Diversity of Clinical Trial Populations — Eligibility Criteria, Enrollment Practices, and Trial Designs Guidance for Industry.pdf\")\n",
    "data = loader.load()\n",
    "text_splitter = CharacterTextSplitter()\n",
    "texts = text_splitter.split_documents(data)\n"
   ]
  },
  {
   "cell_type": "code",
   "execution_count": 53,
   "metadata": {},
   "outputs": [
    {
     "data": {
      "text/plain": [
       "' The FDA has released guidance to increase enrollment of underrepresented populations in clinical trials, including demographic and non-demographic characteristics. Strategies such as predictive and prognostic enrichment are used to increase the efficiency of clinical trials for rare diseases, and the FDA has issued several guidances to encourage the inclusion of a broad population in clinical trials and avoid unnecessary exclusions. The NIH and FDA provide resources to encourage the participation of women and minorities in clinical trials, such as webpages, toolkits, fact sheets, videos, and webinars.'"
      ]
     },
     "metadata": {},
     "output_type": "display_data"
    }
   ],
   "source": [
    "from langchain.chains.summarize import load_summarize_chain\n",
    "\n",
    "chain = load_summarize_chain(llm, chain_type=\"map_reduce\")\n",
    "display(chain.run(texts))"
   ]
  },
  {
   "attachments": {},
   "cell_type": "markdown",
   "metadata": {},
   "source": [
    "We can also return the intermediate steps for map_reduce chains, should we want to inspect them. This is done with the return_map_steps variable."
   ]
  },
  {
   "cell_type": "code",
   "execution_count": 54,
   "metadata": {},
   "outputs": [
    {
     "data": {
      "text/plain": [
       "{'intermediate_steps': [' This guidance from the Food and Drug Administration (FDA) provides recommendations for sponsors of clinical trials intended to support a new drug application or a biologics license application to increase enrollment of underrepresented populations in their clinical trials. It considers both demographic characteristics (e.g., sex, race, ethnicity, age, location of residency) and non-demographic characteristics (e.g., organ dysfunction, comorbid conditions, disabilities, weight range, and low prevalence diseases or conditions).',\n",
       "  ' This guidance from the FDA discusses broadening eligibility criteria and avoiding unnecessary exclusions for clinical trials, developing eligibility criteria and improving trial recruitment to better reflect the population most likely to use the drug if approved, and applying the recommendations for broadening eligibility criteria to clinical trials of drugs intended to treat rare diseases or conditions. The guidance also includes considerations on how and when to include pregnant women in clinical trials.',\n",
       "  ' Drug development programs often exclude medically complex patients with certain concomitant illnesses or those taking particular drugs due to potential toxicity of the investigational drug. However, as data on excretory and metabolic pathways and drug-drug interactions become available, fewer exclusions should be necessary. FDA also recognizes that some eligibility criteria have become commonly accepted over time, excluding certain populations from trials without strong clinical or scientific justification. To ensure that the study population better reflects the patient population likely to use the drug in clinical practice, FDA provides recommendations and encourages sponsors to consider other FDA recommendations as appropriate.',\n",
       "  ' When developing clinical trial protocols, it is important to ensure that eligibility criteria serve the goal of having a representative sample of the population for whom the drug has been developed. Exclusion criteria should be examined to determine if it is needed to help assure the safety of trial participants or to achieve the study objectives. If not needed, consider eliminating or modifying the criterion to expand the study population. Additionally, sponsors should enroll participants who reflect the characteristics of clinically relevant populations with regard to age, sex, race, and ethnicity.',\n",
       "  ' When developing clinical trial protocols, sponsors should ensure that eligibility criteria serve the goal of having a representative sample of the population for whom the drug has been developed. Exclusion criteria should be based on an appropriately specific measure of organ dysfunction and should not lead to the unnecessary exclusion of participants with milder dysfunction. Exclusion criteria from phase 2 studies may be removed or modified for phase 3 trials to avoid unnecessary limits on the study population. Sponsors should also enroll participants who reflect the characteristics of clinically relevant populations with regard to age, sex, race, and ethnicity.',\n",
       "  ' This guidance outlines the importance of including children and adolescents, women, and racial and ethnic minorities in clinical trials, as well as the analysis of clinical trial data by race and ethnicity. It also discusses the differences between sex and gender, and the need to consider gender differences in the clinical evaluation of drugs.',\n",
       "  ' The FDA has guidance for industry on understanding sex differences and the inclusion of in clinical trials, as well as collection of race and ethnicity data in clinical trials. Sponsors should consider various trial design and methodological approaches to facilitate enrollment of a broader population, such as characterizing drug metabolism and clearance across populations, using an adaptive clinical trial design, and staggering enrollment in pediatric studies.',\n",
       "  ' Early characterization of drug metabolism and clearance across different populations is important to optimize effectiveness and safety. Adaptive clinical trial designs can be used to pre-specify trial design changes when data becomes available, including altering the trial population. Consider a broader pediatric development program early and include pharmacokinetic sampling to establish dosing in pregnant women when possible. Enrichment strategies can also be used to broaden eligibility criteria in trials.',\n",
       "  ' Enrichment strategies are trial design strategies that target certain populations in order to more easily demonstrate the effect of a drug. Prognostic enrichment enrolls participants who are more likely to reach study endpoints, while predictive enrichment enrolls participants with a specific characteristic that makes them more likely to respond to an intervention. It is important to maintain broad and representative enrollment criteria, and to include a reasonable sample of marker-negative participants who have the disease but do not meet the enrichment criteria. Additionally, it may be useful to include a broader participant group in a secondary analysis of efficacy.',\n",
       "  ' Clinical trials can be difficult to enroll in due to narrow eligibility criteria, transportation issues, financial costs, and mistrust of clinical research among certain populations. To improve enrollment, sponsors should consider reducing the frequency of study visits, using electronic communication and digital health technology tools, and employing mobile medical professionals. The FDA has resources to further the goal of improving enrollment practices and broadening inclusion criteria.',\n",
       "  ' During recruitment for clinical trials, participants should be made aware of financial reimbursements for associated costs and payment for participation may be considered. In order to enhance recruitment, inclusive strategies for public outreach and education should be implemented, such as involving patients, patient advocates, and caregivers in the design of clinical trial protocols. Community engagement should also be fostered through medical societies, focus groups, community advisory boards, disease registries, and community-based participatory research. Finally, communities should be kept engaged after the conclusion of the clinical research.',\n",
       "  ' Clinical research sponsors should consider engaging with communities after the conclusion of the clinical research and sharing trial updates to strengthen bi-directional relationships. Cultural competency and proficiency training for clinical investigators and research staff can help build trust with participants and avoid biased communication and behavior. Recruitment events should be accessible and held in trusted locations, and agreements should be explored to facilitate the exchange of medical records between clinical trial sites. Additionally, trial resources and documents should be provided in multiple languages and multilingual research staff and/or interpreters should be available.',\n",
       "  ' Clinical trial sponsors should consider providing cultural competency and proficiency training for clinical investigators and research staff to build trusting relationships with participants, recruiting from geographic locations with a higher concentration of racial and ethnic minority patients and indigenous populations, selecting health care providers and study coordinators of the same cultural background as participants, and using real-world data, online/social media recruitment strategies, and electronic informed consent to identify potential sites and participants.',\n",
       "  \" Clinical trials of investigational drugs intended to treat rare diseases or conditions present unique challenges due to limited numbers of patients. To maximize participation, special efforts may be necessary to recruit and retain participants, such as using online/social media recruitment strategies and electronic informed consent. Additionally, for populations with limited or no internet access, personal interactions with investigators may be necessary to ensure understanding of the risks and benefits of trial participation. Finally, FDA's expanded access regulations provide a pathway to potentially offer treatment with an investigational drug to patients who do not meet the eligibility criteria or for other reasons cannot participate in the clinical trial.\",\n",
       "  ' Strategies such as predictive and prognostic enrichment are used to increase the efficiency of clinical trials for rare diseases, but the effects in the broader population remain of interest. Sponsors should consider additional approaches to broadening clinical trial eligibility criteria, such as engaging early in the drug development process with patient advocacy groups, experts, and patients with the disease, and re-enrolling participants in early-phase trials into later-phase randomized trials. Re-enrollment should be done in limited circumstances, with consideration of potential selection bias.',\n",
       "  ' The FDA and ICH have issued guidances to encourage the inclusion of a broad population in clinical trials and avoid unnecessary exclusions. Re-enrolling participants in early-phase trials into later-phase randomized trials when studying the effectiveness of treatments for rare diseases may be reasonable and may facilitate the analysis of safety and efficacy in the broadest possible population. Sponsors should consider the potential for selection bias and make available an open-label extension study with broader inclusion criteria to ensure all study participants have access to the investigational treatment.',\n",
       "  ' In response to the 2012 Food and Drug Administration Safety and Innovation Act (FDASIA), FDA published the FDASIA Action Plan in 2014 to encourage greater clinical trial diversity. This includes the inclusion of older adult participants in clinical trials, pregnant women, and other clinically relevant populations. FDA has released several guidances to support this, such as the Guideline for the Study of Drugs Likely to be Used in the Elderly, Studies in Support of Special Populations: Geriatrics E\\n\\n, and a draft guidance for industry on scientific and ethical considerations for inclusion of pregnant women in clinical trials.',\n",
       "  ' In 2016, the 21st Century Cures Act required the establishment of a Task Force on Research Specific to Pregnant Women and Lactating Women to provide advice and guidance to the Secretary of Health and Human Services on Federal activities related to identifying and addressing gaps in knowledge and research regarding safe and effective therapies for pregnant women and lactating women. The FDA has issued several draft guidances providing trial design recommendations for postapproval pregnancy safety studies and clinical lactation studies, as well as scientific considerations on drug development for rare diseases. The Office of Women’s Health also provides the Diverse Women in Clinical Trials Campaign Partner Toolkit to inform women about clinical trials.',\n",
       "  ' The National Institutes of Health (NIH) and the Food and Drug Administration (FDA) provide resources to encourage the participation of women and minorities in clinical trials. These resources include webpages, toolkits, fact sheets, videos, and webinars. The NIH also maintains a website, clinicaltrials.gov, which provides a database of publicly and privately supported clinical studies. Additionally, ResearchMatch connects researchers with people interested in participating in clinical trials.'],\n",
       " 'output_text': ' The FDA has released guidance to increase enrollment of underrepresented populations in clinical trials, including demographic and non-demographic characteristics. Strategies such as predictive and prognostic enrichment are used to increase the efficiency of clinical trials for rare diseases, and the FDA has issued several guidances to encourage the inclusion of a broad population in clinical trials and avoid unnecessary exclusions. The NIH and FDA provide resources to encourage the participation of women and minorities in clinical trials, such as webpages, toolkits, fact sheets, videos, and webinars.'}"
      ]
     },
     "execution_count": 54,
     "metadata": {},
     "output_type": "execute_result"
    }
   ],
   "source": [
    "chain = load_summarize_chain(llm, chain_type=\"map_reduce\", return_intermediate_steps=True)\n",
    "chain({\"input_documents\": texts}, return_only_outputs=True)"
   ]
  },
  {
   "attachments": {},
   "cell_type": "markdown",
   "metadata": {},
   "source": [
    "learn more about custom prompts at https://langchain.readthedocs.io/en/latest/"
   ]
  }
 ],
 "metadata": {
  "kernelspec": {
   "display_name": "venv",
   "language": "python",
   "name": "python3"
  },
  "language_info": {
   "codemirror_mode": {
    "name": "ipython",
    "version": 3
   },
   "file_extension": ".py",
   "mimetype": "text/x-python",
   "name": "python",
   "nbconvert_exporter": "python",
   "pygments_lexer": "ipython3",
   "version": "3.10.10"
  },
  "orig_nbformat": 4,
  "vscode": {
   "interpreter": {
    "hash": "d7452631343f8c3c6af794cacededb45b4dc4c4983caaec0c13d44a57fb09d98"
   }
  }
 },
 "nbformat": 4,
 "nbformat_minor": 2
}
